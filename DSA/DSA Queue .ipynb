{
 "cells": [
  {
   "cell_type": "code",
   "execution_count": 1,
   "id": "305cd75f-4d90-49ee-ab8d-40539a9f2119",
   "metadata": {},
   "outputs": [
    {
     "data": {
      "text/plain": [
       "[]"
      ]
     },
     "execution_count": 1,
     "metadata": {},
     "output_type": "execute_result"
    }
   ],
   "source": [
    "stock_price_queue = []\n",
    "stock_price_queue"
   ]
  },
  {
   "cell_type": "code",
   "execution_count": 3,
   "id": "547d219f-8b8a-469f-bbfc-62497aef18c7",
   "metadata": {},
   "outputs": [
    {
     "data": {
      "text/plain": [
       "[132.0, 133.5, 143.8]"
      ]
     },
     "execution_count": 3,
     "metadata": {},
     "output_type": "execute_result"
    }
   ],
   "source": [
    "stock_price_queue.insert(0,132.0)\n",
    "stock_price_queue.insert(1,133.5)\n",
    "stock_price_queue.insert(2,143.8)\n",
    "stock_price_queue"
   ]
  },
  {
   "cell_type": "code",
   "execution_count": 5,
   "id": "52160972-e7b4-4a22-9be1-236230d526fa",
   "metadata": {},
   "outputs": [
    {
     "data": {
      "text/plain": [
       "143.8"
      ]
     },
     "execution_count": 5,
     "metadata": {},
     "output_type": "execute_result"
    }
   ],
   "source": [
    "stock_price_queue.pop()"
   ]
  },
  {
   "cell_type": "code",
   "execution_count": 6,
   "id": "e2d2695e-f13b-4659-a610-bbc826976505",
   "metadata": {},
   "outputs": [
    {
     "data": {
      "text/plain": [
       "133.5"
      ]
     },
     "execution_count": 6,
     "metadata": {},
     "output_type": "execute_result"
    }
   ],
   "source": [
    "stock_price_queue.pop()"
   ]
  },
  {
   "cell_type": "code",
   "execution_count": 7,
   "id": "e554e50d-f4d6-4e04-90bb-2eef70afb755",
   "metadata": {},
   "outputs": [
    {
     "data": {
      "text/plain": [
       "132.0"
      ]
     },
     "execution_count": 7,
     "metadata": {},
     "output_type": "execute_result"
    }
   ],
   "source": [
    "stock_price_queue.pop()"
   ]
  },
  {
   "cell_type": "code",
   "execution_count": 8,
   "id": "3bae8b43-5d76-4622-ab2f-ec59498ece26",
   "metadata": {},
   "outputs": [
    {
     "ename": "IndexError",
     "evalue": "pop from empty list",
     "output_type": "error",
     "traceback": [
      "\u001b[1;31m---------------------------------------------------------------------------\u001b[0m",
      "\u001b[1;31mIndexError\u001b[0m                                Traceback (most recent call last)",
      "Cell \u001b[1;32mIn[8], line 1\u001b[0m\n\u001b[1;32m----> 1\u001b[0m \u001b[43mstock_price_queue\u001b[49m\u001b[38;5;241;43m.\u001b[39;49m\u001b[43mpop\u001b[49m\u001b[43m(\u001b[49m\u001b[43m)\u001b[49m\n",
      "\u001b[1;31mIndexError\u001b[0m: pop from empty list"
     ]
    }
   ],
   "source": [
    "stock_price_queue.pop()\n"
   ]
  },
  {
   "cell_type": "markdown",
   "id": "299f4801-6b42-4c99-943f-bb06a5aead91",
   "metadata": {},
   "source": [
    "USE deque as queue\n"
   ]
  },
  {
   "cell_type": "code",
   "execution_count": 19,
   "id": "8f471e84-9d50-473e-a2ea-866e6c7493e8",
   "metadata": {},
   "outputs": [],
   "source": [
    "from collections import deque\n",
    "q = deque()"
   ]
  },
  {
   "cell_type": "code",
   "execution_count": 20,
   "id": "095b99e3-0876-4aed-8d8a-84cc7db4189f",
   "metadata": {},
   "outputs": [
    {
     "data": {
      "text/plain": [
       "deque([22, 34, 4])"
      ]
     },
     "execution_count": 20,
     "metadata": {},
     "output_type": "execute_result"
    }
   ],
   "source": [
    "q.appendleft(4)\n",
    "q.appendleft(34)\n",
    "q.appendleft(22)\n",
    "q"
   ]
  },
  {
   "cell_type": "code",
   "execution_count": 21,
   "id": "1625c7fe-1a64-4f8a-9b51-49cfb1b7c5c1",
   "metadata": {},
   "outputs": [
    {
     "data": {
      "text/plain": [
       "deque([22, 34, 4])"
      ]
     },
     "execution_count": 21,
     "metadata": {},
     "output_type": "execute_result"
    }
   ],
   "source": [
    "q"
   ]
  },
  {
   "cell_type": "code",
   "execution_count": 22,
   "id": "623bcfb0-e656-4da7-911a-55869c8a2811",
   "metadata": {},
   "outputs": [
    {
     "data": {
      "text/plain": [
       "4"
      ]
     },
     "execution_count": 22,
     "metadata": {},
     "output_type": "execute_result"
    }
   ],
   "source": [
    "q.pop()"
   ]
  },
  {
   "cell_type": "markdown",
   "id": "33b28998-c455-4832-89bc-e3d07a537e05",
   "metadata": {},
   "source": [
    "Implement queue class using collections.deque"
   ]
  },
  {
   "cell_type": "code",
   "execution_count": 46,
   "id": "3e5105e3-4602-46ed-96a8-aafda886f2cc",
   "metadata": {},
   "outputs": [],
   "source": [
    "from collections import deque\n",
    "\n",
    "class queue:\n",
    "    def __init__(self):\n",
    "        self.buffer = deque()\n",
    "\n",
    "    def enqueue (self, val):\n",
    "        self.buffer.appendleft(val)\n",
    "\n",
    "    def dequeue (self):\n",
    "        return self.buffer.pop()\n",
    "\n",
    "    def size(self):\n",
    "        return len(self.buffer)\n",
    "\n",
    "    def is_empty(self):\n",
    "        return len(self.buffer) == 0\n",
    "\n",
    "    #def __repe__(self):\n",
    "       # return str(self.buffer)\n",
    "        "
   ]
  },
  {
   "cell_type": "code",
   "execution_count": 47,
   "id": "f03c5078-f3bd-49ad-8b54-568eba4f7597",
   "metadata": {},
   "outputs": [],
   "source": [
    "pd = queue()\n",
    "pd.enqueue({'company':'BSE','time stamp':'10:00 AM', 'PRICE':130})\n",
    "pd.enqueue({'company':'BSE','time stamp':'10:01 AM', 'PRICE':134})\n",
    "pd.enqueue({'company':'BSE','time stamp':'10:02 AM', 'PRICE':136})"
   ]
  },
  {
   "cell_type": "code",
   "execution_count": 48,
   "id": "454e2e3b-9b50-47d7-b567-2c152f405a0a",
   "metadata": {},
   "outputs": [
    {
     "data": {
      "text/plain": [
       "deque([{'company': 'BSE', 'time stamp': '10:02 AM', 'PRICE': 136},\n",
       "       {'company': 'BSE', 'time stamp': '10:01 AM', 'PRICE': 134},\n",
       "       {'company': 'BSE', 'time stamp': '10:00 AM', 'PRICE': 130}])"
      ]
     },
     "execution_count": 48,
     "metadata": {},
     "output_type": "execute_result"
    }
   ],
   "source": [
    "pd.buffer"
   ]
  },
  {
   "cell_type": "code",
   "execution_count": 49,
   "id": "04d350d7-06d7-4734-980f-0e1699f8a03b",
   "metadata": {},
   "outputs": [
    {
     "data": {
      "text/plain": [
       "3"
      ]
     },
     "execution_count": 49,
     "metadata": {},
     "output_type": "execute_result"
    }
   ],
   "source": [
    "pd.size()"
   ]
  },
  {
   "cell_type": "code",
   "execution_count": 50,
   "id": "76f2b3c0-6550-41ce-b2da-d0c6a7673de6",
   "metadata": {},
   "outputs": [
    {
     "data": {
      "text/plain": [
       "{'company': 'BSE', 'time stamp': '10:00 AM', 'PRICE': 130}"
      ]
     },
     "execution_count": 50,
     "metadata": {},
     "output_type": "execute_result"
    }
   ],
   "source": [
    "pd.dequeue()"
   ]
  },
  {
   "cell_type": "code",
   "execution_count": 51,
   "id": "3c91f945-1d33-446f-9453-dc87ca405cfc",
   "metadata": {},
   "outputs": [
    {
     "data": {
      "text/plain": [
       "{'company': 'BSE', 'time stamp': '10:01 AM', 'PRICE': 134}"
      ]
     },
     "execution_count": 51,
     "metadata": {},
     "output_type": "execute_result"
    }
   ],
   "source": [
    "pd.dequeue()"
   ]
  },
  {
   "cell_type": "code",
   "execution_count": 52,
   "id": "7bf36314-53df-4fcd-b233-66f19007a35d",
   "metadata": {},
   "outputs": [
    {
     "data": {
      "text/plain": [
       "{'company': 'BSE', 'time stamp': '10:02 AM', 'PRICE': 136}"
      ]
     },
     "execution_count": 52,
     "metadata": {},
     "output_type": "execute_result"
    }
   ],
   "source": [
    "pd.dequeue()"
   ]
  },
  {
   "cell_type": "code",
   "execution_count": 53,
   "id": "bef32f44-7639-41e6-ab72-ba65e1c191e9",
   "metadata": {},
   "outputs": [
    {
     "ename": "IndexError",
     "evalue": "pop from an empty deque",
     "output_type": "error",
     "traceback": [
      "\u001b[1;31m---------------------------------------------------------------------------\u001b[0m",
      "\u001b[1;31mIndexError\u001b[0m                                Traceback (most recent call last)",
      "Cell \u001b[1;32mIn[53], line 1\u001b[0m\n\u001b[1;32m----> 1\u001b[0m \u001b[43mpd\u001b[49m\u001b[38;5;241;43m.\u001b[39;49m\u001b[43mdequeue\u001b[49m\u001b[43m(\u001b[49m\u001b[43m)\u001b[49m\n",
      "Cell \u001b[1;32mIn[46], line 11\u001b[0m, in \u001b[0;36mqueue.dequeue\u001b[1;34m(self)\u001b[0m\n\u001b[0;32m     10\u001b[0m \u001b[38;5;28;01mdef\u001b[39;00m \u001b[38;5;21mdequeue\u001b[39m (\u001b[38;5;28mself\u001b[39m):\n\u001b[1;32m---> 11\u001b[0m     \u001b[38;5;28;01mreturn\u001b[39;00m \u001b[38;5;28;43mself\u001b[39;49m\u001b[38;5;241;43m.\u001b[39;49m\u001b[43mbuffer\u001b[49m\u001b[38;5;241;43m.\u001b[39;49m\u001b[43mpop\u001b[49m\u001b[43m(\u001b[49m\u001b[43m)\u001b[49m\n",
      "\u001b[1;31mIndexError\u001b[0m: pop from an empty deque"
     ]
    }
   ],
   "source": [
    "pd.dequeue()"
   ]
  },
  {
   "cell_type": "code",
   "execution_count": 54,
   "id": "a638cc20-2353-4e99-a9b4-bf22ff0431f5",
   "metadata": {},
   "outputs": [
    {
     "data": {
      "text/plain": [
       "True"
      ]
     },
     "execution_count": 54,
     "metadata": {},
     "output_type": "execute_result"
    }
   ],
   "source": [
    "pd.is_empty()"
   ]
  },
  {
   "cell_type": "code",
   "execution_count": null,
   "id": "e6e50532-ead3-4945-9d11-37ac7b27f4ac",
   "metadata": {},
   "outputs": [],
   "source": []
  }
 ],
 "metadata": {
  "kernelspec": {
   "display_name": "Python 3 (ipykernel)",
   "language": "python",
   "name": "python3"
  },
  "language_info": {
   "codemirror_mode": {
    "name": "ipython",
    "version": 3
   },
   "file_extension": ".py",
   "mimetype": "text/x-python",
   "name": "python",
   "nbconvert_exporter": "python",
   "pygments_lexer": "ipython3",
   "version": "3.10.14"
  }
 },
 "nbformat": 4,
 "nbformat_minor": 5
}
